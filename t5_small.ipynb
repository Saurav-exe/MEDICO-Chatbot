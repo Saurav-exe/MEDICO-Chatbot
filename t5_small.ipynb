{
  "nbformat": 4,
  "nbformat_minor": 0,
  "metadata": {
    "colab": {
      "provenance": [],
      "mount_file_id": "1CZ1FP00bkZmSVdPKokJjntdreQNpGrqY",
      "authorship_tag": "ABX9TyN3TKOiZ5XdJHiUZL3mpWnc",
      "include_colab_link": true
    },
    "kernelspec": {
      "name": "python3",
      "display_name": "Python 3"
    },
    "language_info": {
      "name": "python"
    }
  },
  "cells": [
    {
      "cell_type": "markdown",
      "metadata": {
        "id": "view-in-github",
        "colab_type": "text"
      },
      "source": [
        "<a href=\"https://colab.research.google.com/github/Saurav-exe/MEDICO-Chatbot/blob/main/t5_small.ipynb\" target=\"_parent\"><img src=\"https://colab.research.google.com/assets/colab-badge.svg\" alt=\"Open In Colab\"/></a>"
      ]
    },
    {
      "cell_type": "code",
      "execution_count": null,
      "metadata": {
        "id": "RzEqjImOommU"
      },
      "outputs": [],
      "source": [
        "# Install required packages\n",
        "!pip install -q transformers datasets peft accelerate torch bitsandbytes"
      ]
    },
    {
      "cell_type": "code",
      "source": [
        "import torch\n",
        "from transformers import T5Tokenizer, T5ForConditionalGeneration, Trainer, TrainingArguments\n",
        "from datasets import load_dataset\n",
        "from peft import LoraConfig, get_peft_model, TaskType"
      ],
      "metadata": {
        "id": "qUbPIxcDpHAD"
      },
      "execution_count": null,
      "outputs": []
    },
    {
      "cell_type": "code",
      "source": [
        "# ✅ 1. Load Tokenizer & Model\n",
        "model_name = \"google-t5/t5-small\"\n",
        "tokenizer = T5Tokenizer.from_pretrained(model_name)\n",
        "model = T5ForConditionalGeneration.from_pretrained(model_name)"
      ],
      "metadata": {
        "id": "R0EiJ7S4pOzQ"
      },
      "execution_count": null,
      "outputs": []
    },
    {
      "cell_type": "code",
      "source": [
        "# ✅ 2. Apply LoRA (Efficient Fine-tuning)\n",
        "lora_config = LoraConfig(\n",
        "    task_type=TaskType.SEQ_2_SEQ_LM,\n",
        "    r=8, lora_alpha=32,\n",
        "    lora_dropout=0.1,\n",
        "    target_modules=[\"q\", \"v\"]  # Apply LoRA to attention layers\n",
        ")\n",
        "model = get_peft_model(model, lora_config)"
      ],
      "metadata": {
        "id": "JdRsj2ujphJG"
      },
      "execution_count": null,
      "outputs": []
    },
    {
      "cell_type": "code",
      "source": [
        "# ✅ 3. Load & Preprocess Dataset\n",
        "dataset_path = \" \"  # Upload your dataset to Colab\n",
        "dataset = load_dataset(\"csv\", data_files=dataset_path)\n",
        "\n",
        "# Tokenization function\n",
        "def tokenize_function(examples):\n",
        "    return tokenizer(examples[\"text_input\"], padding=\"max_length\", truncation=True, max_length=512)\n"
      ],
      "metadata": {
        "id": "ahL5RSzmpmKs"
      },
      "execution_count": null,
      "outputs": []
    }
  ]
}